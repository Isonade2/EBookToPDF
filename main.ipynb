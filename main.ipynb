{
 "cells": [
  {
   "cell_type": "code",
   "execution_count": 4,
   "metadata": {},
   "outputs": [
    {
     "name": "stdout",
     "output_type": "stream",
     "text": [
      "1057 420\n"
     ]
    }
   ],
   "source": [
    "import pyautogui\n",
    "\n",
    "x,y = pyautogui.position()\n",
    "print(x,y)"
   ]
  },
  {
   "cell_type": "code",
   "execution_count": 19,
   "metadata": {},
   "outputs": [],
   "source": [
    "import os\n",
    "from img2pdf import convert\n",
    "\n",
    "src_dir = os.getcwd() + \"\\\\dist\"\n",
    "tgt_dir = os.getcwd()\n",
    "\n",
    "img_files = [os.path.join(src_dir, nm) for nm in os.listdir(src_dir)]\n",
    "with open(tgt_dir + \"\\\\test.pdf\", \"wb\") as pdf_file:\n",
    "    pdf_file.write(convert(img_files))"
   ]
  },
  {
   "cell_type": "code",
   "execution_count": null,
   "metadata": {},
   "outputs": [],
   "source": []
  }
 ],
 "metadata": {
  "kernelspec": {
   "display_name": "EbookTOPDF",
   "language": "python",
   "name": "python3"
  },
  "language_info": {
   "codemirror_mode": {
    "name": "ipython",
    "version": 3
   },
   "file_extension": ".py",
   "mimetype": "text/x-python",
   "name": "python",
   "nbconvert_exporter": "python",
   "pygments_lexer": "ipython3",
   "version": "3.11.9"
  }
 },
 "nbformat": 4,
 "nbformat_minor": 2
}
