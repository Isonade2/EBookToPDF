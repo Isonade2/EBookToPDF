{
 "cells": [
  {
   "cell_type": "code",
   "execution_count": 4,
   "metadata": {},
   "outputs": [
    {
     "name": "stdout",
     "output_type": "stream",
     "text": [
      "1057 420\n"
     ]
    }
   ],
   "source": [
    "import pyautogui\n",
    "\n",
    "x,y = pyautogui.position()\n",
    "print(x,y)"
   ]
  },
  {
   "cell_type": "code",
   "execution_count": 18,
   "metadata": {},
   "outputs": [
    {
     "ename": "TypeError",
     "evalue": "a bytes-like object is required, not 'str'",
     "output_type": "error",
     "traceback": [
      "\u001b[1;31m---------------------------------------------------------------------------\u001b[0m",
      "\u001b[1;31mTypeError\u001b[0m                                 Traceback (most recent call last)",
      "Cell \u001b[1;32mIn[18], line 14\u001b[0m\n\u001b[0;32m     11\u001b[0m \t\u001b[38;5;28;01mif\u001b[39;00m file\u001b[38;5;241m.\u001b[39mendswith(\u001b[38;5;124m\"\u001b[39m\u001b[38;5;124m.png\u001b[39m\u001b[38;5;124m\"\u001b[39m):\n\u001b[0;32m     12\u001b[0m \t\tpdf_list\u001b[38;5;241m.\u001b[39mappend(file)\n\u001b[1;32m---> 14\u001b[0m pdf \u001b[38;5;241m=\u001b[39m \u001b[43mconvert\u001b[49m\u001b[43m(\u001b[49m\u001b[43mpdf_list\u001b[49m\u001b[43m)\u001b[49m\n\u001b[0;32m     15\u001b[0m f\u001b[38;5;241m.\u001b[39mwrite(pdf)\n",
      "File \u001b[1;32mc:\\Users\\kimchi\\anaconda3\\envs\\EbookTOPDF\\Lib\\site-packages\\img2pdf.py:2733\u001b[0m, in \u001b[0;36mconvert\u001b[1;34m(*images, **kwargs)\u001b[0m\n\u001b[0;32m   2714\u001b[0m         f\u001b[38;5;241m.\u001b[39mclose()\n\u001b[0;32m   2716\u001b[0m \u001b[38;5;66;03m# md5 = hashlib.md5(rawdata).hexdigest()\u001b[39;00m\n\u001b[0;32m   2717\u001b[0m \u001b[38;5;66;03m# with open(\"./testdata/\" + md5, \"wb\") as f:\u001b[39;00m\n\u001b[0;32m   2718\u001b[0m \u001b[38;5;66;03m#    f.write(rawdata)\u001b[39;00m\n\u001b[0;32m   2720\u001b[0m \u001b[38;5;28;01mfor\u001b[39;00m (\n\u001b[0;32m   2721\u001b[0m     color,\n\u001b[0;32m   2722\u001b[0m     ndpi,\n\u001b[0;32m   2723\u001b[0m     imgformat,\n\u001b[0;32m   2724\u001b[0m     imgdata,\n\u001b[0;32m   2725\u001b[0m     smaskdata,\n\u001b[0;32m   2726\u001b[0m     imgwidthpx,\n\u001b[0;32m   2727\u001b[0m     imgheightpx,\n\u001b[0;32m   2728\u001b[0m     palette,\n\u001b[0;32m   2729\u001b[0m     inverted,\n\u001b[0;32m   2730\u001b[0m     depth,\n\u001b[0;32m   2731\u001b[0m     rotation,\n\u001b[0;32m   2732\u001b[0m     iccp,\n\u001b[1;32m-> 2733\u001b[0m ) \u001b[38;5;129;01min\u001b[39;00m \u001b[43mread_images\u001b[49m\u001b[43m(\u001b[49m\n\u001b[0;32m   2734\u001b[0m \u001b[43m    \u001b[49m\u001b[43mrawdata\u001b[49m\u001b[43m,\u001b[49m\n\u001b[0;32m   2735\u001b[0m \u001b[43m    \u001b[49m\u001b[43mkwargs\u001b[49m\u001b[43m[\u001b[49m\u001b[38;5;124;43m\"\u001b[39;49m\u001b[38;5;124;43mcolorspace\u001b[39;49m\u001b[38;5;124;43m\"\u001b[39;49m\u001b[43m]\u001b[49m\u001b[43m,\u001b[49m\n\u001b[0;32m   2736\u001b[0m \u001b[43m    \u001b[49m\u001b[43mkwargs\u001b[49m\u001b[43m[\u001b[49m\u001b[38;5;124;43m\"\u001b[39;49m\u001b[38;5;124;43mfirst_frame_only\u001b[39;49m\u001b[38;5;124;43m\"\u001b[39;49m\u001b[43m]\u001b[49m\u001b[43m,\u001b[49m\n\u001b[0;32m   2737\u001b[0m \u001b[43m    \u001b[49m\u001b[43mkwargs\u001b[49m\u001b[43m[\u001b[49m\u001b[38;5;124;43m\"\u001b[39;49m\u001b[38;5;124;43mrotation\u001b[39;49m\u001b[38;5;124;43m\"\u001b[39;49m\u001b[43m]\u001b[49m\u001b[43m,\u001b[49m\n\u001b[0;32m   2738\u001b[0m \u001b[43m    \u001b[49m\u001b[43mkwargs\u001b[49m\u001b[43m[\u001b[49m\u001b[38;5;124;43m\"\u001b[39;49m\u001b[38;5;124;43minclude_thumbnails\u001b[39;49m\u001b[38;5;124;43m\"\u001b[39;49m\u001b[43m]\u001b[49m\u001b[43m,\u001b[49m\n\u001b[0;32m   2739\u001b[0m \u001b[43m\u001b[49m\u001b[43m)\u001b[49m:\n\u001b[0;32m   2740\u001b[0m     pagewidth, pageheight, imgwidthpdf, imgheightpdf \u001b[38;5;241m=\u001b[39m kwargs[\u001b[38;5;124m\"\u001b[39m\u001b[38;5;124mlayout_fun\u001b[39m\u001b[38;5;124m\"\u001b[39m](\n\u001b[0;32m   2741\u001b[0m         imgwidthpx, imgheightpx, ndpi\n\u001b[0;32m   2742\u001b[0m     )\n\u001b[0;32m   2744\u001b[0m     userunit \u001b[38;5;241m=\u001b[39m \u001b[38;5;28;01mNone\u001b[39;00m\n",
      "File \u001b[1;32mc:\\Users\\kimchi\\anaconda3\\envs\\EbookTOPDF\\Lib\\site-packages\\img2pdf.py:1813\u001b[0m, in \u001b[0;36mread_images\u001b[1;34m(rawdata, colorspace, first_frame_only, rot, include_thumbnails)\u001b[0m\n\u001b[0;32m   1810\u001b[0m \u001b[38;5;28;01mdef\u001b[39;00m \u001b[38;5;21mread_images\u001b[39m(\n\u001b[0;32m   1811\u001b[0m     rawdata, colorspace, first_frame_only\u001b[38;5;241m=\u001b[39m\u001b[38;5;28;01mFalse\u001b[39;00m, rot\u001b[38;5;241m=\u001b[39m\u001b[38;5;28;01mNone\u001b[39;00m, include_thumbnails\u001b[38;5;241m=\u001b[39m\u001b[38;5;28;01mFalse\u001b[39;00m\n\u001b[0;32m   1812\u001b[0m ):\n\u001b[1;32m-> 1813\u001b[0m     im \u001b[38;5;241m=\u001b[39m \u001b[43mBytesIO\u001b[49m\u001b[43m(\u001b[49m\u001b[43mrawdata\u001b[49m\u001b[43m)\u001b[49m\n\u001b[0;32m   1814\u001b[0m     im\u001b[38;5;241m.\u001b[39mseek(\u001b[38;5;241m0\u001b[39m)\n\u001b[0;32m   1815\u001b[0m     imgdata \u001b[38;5;241m=\u001b[39m \u001b[38;5;28;01mNone\u001b[39;00m\n",
      "\u001b[1;31mTypeError\u001b[0m: a bytes-like object is required, not 'str'"
     ]
    }
   ],
   "source": [
    "import os\n",
    "from img2pdf import convert\n",
    "\n",
    "src_dir = os.getcwd() + \"\\\\dist\"\n",
    "tgt_dir = os.getcwd()\n",
    "\n",
    "img_files = [os.path.join(src_dir, nm) for nm in os.listdir(src_dir)]\n",
    "with open(tgt_dir + \"\\\\test.pdf\", \"wb\") as pdf_file:\n",
    "    pdf_file.write(convert(img_files))"
   ]
  },
  {
   "cell_type": "code",
   "execution_count": null,
   "metadata": {},
   "outputs": [],
   "source": []
  }
 ],
 "metadata": {
  "kernelspec": {
   "display_name": "EbookTOPDF",
   "language": "python",
   "name": "python3"
  },
  "language_info": {
   "codemirror_mode": {
    "name": "ipython",
    "version": 3
   },
   "file_extension": ".py",
   "mimetype": "text/x-python",
   "name": "python",
   "nbconvert_exporter": "python",
   "pygments_lexer": "ipython3",
   "version": "3.11.9"
  }
 },
 "nbformat": 4,
 "nbformat_minor": 2
}
